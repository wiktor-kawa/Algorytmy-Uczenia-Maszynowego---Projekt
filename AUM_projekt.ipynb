{
 "cells": [
  {
   "cell_type": "markdown",
   "id": "8446c987-f4c0-4fbb-b382-f2816145141b",
   "metadata": {},
   "source": [
    "**PROJEKT - ALGORYTMY UCZENIA MASZYNOWEGO**"
   ]
  },
  {
   "cell_type": "markdown",
   "id": "ae208e6e-423f-488e-8e8c-d7702f8438ae",
   "metadata": {},
   "source": [
    "--> [Link do Github'a](https://github.com/wiktor-kawa/Algorytmy-Uczenia-Maszynowego---Projekt) <--"
   ]
  },
  {
   "cell_type": "code",
   "execution_count": 1,
   "id": "7f3799b1-f6b1-4bb7-a9fa-030123a29d3a",
   "metadata": {},
   "outputs": [],
   "source": [
    "import numpy as np\n",
    "import pandas as pd\n",
    "from matplotlib import pyplot as plt"
   ]
  },
  {
   "cell_type": "code",
   "execution_count": 2,
   "id": "ca6de939-e7d9-4e4f-867d-cd5a134ef542",
   "metadata": {},
   "outputs": [],
   "source": [
    "#załadowanie danych do programu\n",
    "df = pd.read_csv('cars.data', header = None)\n",
    "df.columns = ['buying', 'maint', 'doors', 'persons', 'lug_boot', 'safety', 'class']"
   ]
  },
  {
   "cell_type": "markdown",
   "id": "d1a0df5b-afb5-43f8-9d33-a1289279e0ac",
   "metadata": {},
   "source": [
    "**OPIS CECH**<br>\n",
    "*buying - cena zakupu samochodu*<br>\n",
    "*maint - cena utrzymania samochodu*<br>\n",
    "*doors - liczba drzwi*<br>\n",
    "*persons - pojemność w przeliczeniu na liczbę osób*<br>\n",
    "*lub_boot - wielkość bagażnika*<br>\n",
    "*safety - szacunkowe bezpieczeństwo samochodu*<br>\n",
    "*class - stan akceptowalności pojazdu*<br>\n",
    "\n",
    "**OPIS ETYKIET**<br>\n",
    "*unacc - unacceptable*<br>\n",
    "*acc - acceptable*<br>\n",
    "*good - good*<br>\n",
    "*vgood - very good*<br>\n"
   ]
  },
  {
   "cell_type": "code",
   "execution_count": 3,
   "id": "244ea42a-58fe-448b-89a3-92fdccd98155",
   "metadata": {},
   "outputs": [
    {
     "name": "stdout",
     "output_type": "stream",
     "text": [
      "(1728, 7)\n"
     ]
    },
    {
     "data": {
      "text/html": [
       "<div>\n",
       "<style scoped>\n",
       "    .dataframe tbody tr th:only-of-type {\n",
       "        vertical-align: middle;\n",
       "    }\n",
       "\n",
       "    .dataframe tbody tr th {\n",
       "        vertical-align: top;\n",
       "    }\n",
       "\n",
       "    .dataframe thead th {\n",
       "        text-align: right;\n",
       "    }\n",
       "</style>\n",
       "<table border=\"1\" class=\"dataframe\">\n",
       "  <thead>\n",
       "    <tr style=\"text-align: right;\">\n",
       "      <th></th>\n",
       "      <th>buying</th>\n",
       "      <th>maint</th>\n",
       "      <th>doors</th>\n",
       "      <th>persons</th>\n",
       "      <th>lug_boot</th>\n",
       "      <th>safety</th>\n",
       "      <th>class</th>\n",
       "    </tr>\n",
       "  </thead>\n",
       "  <tbody>\n",
       "    <tr>\n",
       "      <th>0</th>\n",
       "      <td>vhigh</td>\n",
       "      <td>vhigh</td>\n",
       "      <td>2</td>\n",
       "      <td>2</td>\n",
       "      <td>small</td>\n",
       "      <td>low</td>\n",
       "      <td>unacc</td>\n",
       "    </tr>\n",
       "    <tr>\n",
       "      <th>1</th>\n",
       "      <td>vhigh</td>\n",
       "      <td>vhigh</td>\n",
       "      <td>2</td>\n",
       "      <td>2</td>\n",
       "      <td>small</td>\n",
       "      <td>med</td>\n",
       "      <td>unacc</td>\n",
       "    </tr>\n",
       "    <tr>\n",
       "      <th>2</th>\n",
       "      <td>vhigh</td>\n",
       "      <td>vhigh</td>\n",
       "      <td>2</td>\n",
       "      <td>2</td>\n",
       "      <td>small</td>\n",
       "      <td>high</td>\n",
       "      <td>unacc</td>\n",
       "    </tr>\n",
       "    <tr>\n",
       "      <th>3</th>\n",
       "      <td>vhigh</td>\n",
       "      <td>vhigh</td>\n",
       "      <td>2</td>\n",
       "      <td>2</td>\n",
       "      <td>med</td>\n",
       "      <td>low</td>\n",
       "      <td>unacc</td>\n",
       "    </tr>\n",
       "    <tr>\n",
       "      <th>4</th>\n",
       "      <td>vhigh</td>\n",
       "      <td>vhigh</td>\n",
       "      <td>2</td>\n",
       "      <td>2</td>\n",
       "      <td>med</td>\n",
       "      <td>med</td>\n",
       "      <td>unacc</td>\n",
       "    </tr>\n",
       "  </tbody>\n",
       "</table>\n",
       "</div>"
      ],
      "text/plain": [
       "  buying  maint doors persons lug_boot safety  class\n",
       "0  vhigh  vhigh     2       2    small    low  unacc\n",
       "1  vhigh  vhigh     2       2    small    med  unacc\n",
       "2  vhigh  vhigh     2       2    small   high  unacc\n",
       "3  vhigh  vhigh     2       2      med    low  unacc\n",
       "4  vhigh  vhigh     2       2      med    med  unacc"
      ]
     },
     "execution_count": 3,
     "metadata": {},
     "output_type": "execute_result"
    }
   ],
   "source": [
    "#wyświetlenie rozmiaru i początkowej części bazy danych\n",
    "print(df.shape)\n",
    "df.head()"
   ]
  },
  {
   "cell_type": "code",
   "execution_count": 4,
   "id": "3058d94a-a412-4c22-840b-ea60ef91c09d",
   "metadata": {},
   "outputs": [
    {
     "name": "stdout",
     "output_type": "stream",
     "text": [
      "Liczba aut o wysokiej cenie i drogich w utrzymaniu - 108\n",
      "Liczba aut z etykietą 'unacceptable' - 65\n"
     ]
    }
   ],
   "source": [
    "#Zliczanie samochodów o określonych atrybutach oraz etykiet\n",
    "i = 0\n",
    "liczba_vhigh = 0\n",
    "liczba_unacc = 0\n",
    "while i < df.shape[0]: \n",
    "    if (df['buying'][i] == \"vhigh\") & (df['maint'][i] == \"vhigh\"): #zliczanie liczby aut o wysokiej cenie i drogich w utrymaniu\n",
    "        liczba_vhigh = liczba_vhigh + 1\n",
    "    if df['class'][i] == \"vgood\":\n",
    "        liczba_unacc = liczba_unacc + 1\n",
    "    i = i + 1\n",
    "\n",
    "print('Liczba aut o wysokiej cenie i drogich w utrzymaniu - ' + str(liczba_vhigh))\n",
    "print(\"Liczba aut z etykietą 'unacceptable' - \" + str(liczba_unacc))"
   ]
  },
  {
   "cell_type": "code",
   "execution_count": 54,
   "id": "c2133f30-a28e-4aac-8edb-aa0fb0e4e5d3",
   "metadata": {},
   "outputs": [
    {
     "name": "stdout",
     "output_type": "stream",
     "text": [
      "Wymiary tablic X i y:\n",
      "(1728, 6) (1728,)\n",
      "\n",
      "Zbiór wektorów cech:\n",
      "[[3 3 0 0 0 0]\n",
      " [3 3 0 0 0 1]\n",
      " [3 3 0 0 0 2]\n",
      " ...\n",
      " [0 0 3 2 2 0]\n",
      " [0 0 3 2 2 1]\n",
      " [0 0 3 2 2 2]]\n",
      "\n",
      "Zbiór etykiet:\n",
      "[0 0 0 ... 0 2 3]\n"
     ]
    }
   ],
   "source": [
    "data = df.values\n",
    "X = data[:,:-1]      #zmienna X - zbiór wektorów cech\n",
    "y = data[:,-1]       #zmienna y - zbiór etykiet dla obiektów znajdujących się w zbiorze\n",
    "print(\"Wymiary tablic X i y:\")\n",
    "print(X.shape, y.shape)\n",
    "print()\n",
    "print(\"Zbiór wektorów cech:\")\n",
    "print(X)\n",
    "print()\n",
    "print(\"Zbiór etykiet:\")\n",
    "print(y)"
   ]
  },
  {
   "cell_type": "markdown",
   "id": "fa5afbb6-8e8c-423e-940b-4d576fd81d99",
   "metadata": {},
   "source": [
    "**----->KONWERSJA ATRYBUTÓW TYPU STRING NA INT<-----**"
   ]
  },
  {
   "cell_type": "code",
   "execution_count": 6,
   "id": "75c5927e-bfdf-4292-a85f-ce03931daee8",
   "metadata": {},
   "outputs": [
    {
     "name": "stdout",
     "output_type": "stream",
     "text": [
      "[[3 3 0 0 0 0]\n",
      " [3 3 0 0 0 1]\n",
      " [3 3 0 0 0 2]\n",
      " ...\n",
      " [0 0 3 2 2 0]\n",
      " [0 0 3 2 2 1]\n",
      " [0 0 3 2 2 2]]\n"
     ]
    }
   ],
   "source": [
    "#konwersja atrybutów typu string na int\n",
    "i=0; j=0; k=0; l=0; m=0; n=0; o=0\n",
    "\n",
    "labels, uniques = pd.factorize(['low', 'med', 'high', 'vhigh'])\n",
    "labels_door, uniques_door = pd.factorize(['2', '3', '4', '5more'])\n",
    "labels_persons, uniques_persons = pd.factorize(['2', '4', 'more'])\n",
    "labels_lug, uniques_lug = pd.factorize(['small', 'med', 'big'])\n",
    "labels_class, uniques_class = pd.factorize(['unacc', 'acc', 'good', 'vgood'])\n",
    "\n",
    "#zmiana atrybutów typu string na int w bazie danych\n",
    "while i < y.shape[0]:      #->etykiety (unacc = 0, acc = 1, good = 2, vgood = 3)\n",
    "    if y[i] == 'unacc':\n",
    "        y[i] = labels_class[0]\n",
    "    elif y[i] == 'acc':\n",
    "        y[i] = labels_class[1]\n",
    "    elif y[i] == 'good':\n",
    "        y[i] = labels_class[2]\n",
    "    elif y[i] == 'vgood':\n",
    "        y[i] = labels_class[3]\n",
    "    i = i + 1\n",
    "    \n",
    "while j < X.shape[0]:    #-> atrybut BUYING (low = 0, med = 1, high = 2, vhigh = 3)\n",
    "    if X[j][0] == 'low':\n",
    "        X[j][0] = labels[0]\n",
    "    elif X[j][0] == 'med':\n",
    "        X[j][0] = labels[1]\n",
    "    elif X[j][0] == 'high':\n",
    "        X[j][0] = labels[2]\n",
    "    elif X[j][0] == 'vhigh':\n",
    "        X[j][0] = labels[3]\n",
    "    j = j + 1\n",
    "    \n",
    "while k < X.shape[0]:    #-> atrybut MAINT (low = 0, med = 1, high = 2, vhigh = 3)\n",
    "    if X[k][1] == 'low':\n",
    "        X[k][1] = labels[0]\n",
    "    elif X[k][1] == 'med':\n",
    "        X[k][1] = labels[1]\n",
    "    elif X[k][1] == 'high':\n",
    "        X[k][1] = labels[2]\n",
    "    elif X[k][1] == 'vhigh':\n",
    "        X[k][1] = labels[3]\n",
    "    k = k + 1\n",
    "    \n",
    "while l < X.shape[0]:    #-> atrybut DOORS (2 = 0, 3 = 1, 4 = 2, 5more = 3)\n",
    "    if X[l][2] == '2':\n",
    "        X[l][2] = labels_door[0]\n",
    "    elif X[l][2] == '3':\n",
    "        X[l][2] = labels_door[1]\n",
    "    elif X[l][2] == '4':\n",
    "        X[l][2] = labels_door[2]\n",
    "    elif X[l][2] == '5more':\n",
    "        X[l][2] = labels_door[3]\n",
    "    l = l + 1\n",
    "    \n",
    "while m < X.shape[0]:    #-> atrybut PERSONS (2 = 0, 4 = 1, more = 2)\n",
    "    if X[m][3] == '2':\n",
    "        X[m][3] = labels_persons[0]\n",
    "    elif X[m][3] == '4':\n",
    "        X[m][3] = labels_persons[1]\n",
    "    elif X[m][3] == 'more':\n",
    "        X[m][3] = labels_persons[2]\n",
    "    m = m + 1\n",
    "    \n",
    "while n < X.shape[0]:    #-> atrybut LUG_BOOT (small = 0, med = 1, big = 2)\n",
    "    if X[n][4] == 'small':\n",
    "        X[n][4] = labels_lug[0]\n",
    "    elif X[n][4] == 'med':\n",
    "        X[n][4] = labels_lug[1]\n",
    "    elif X[n][4] == 'big':\n",
    "        X[n][4] = labels_lug[2]\n",
    "    n = n + 1\n",
    "    \n",
    "while o < X.shape[0]:    #-> atrybut SAFETY (low = 0, med = 1, high = 2)\n",
    "    if X[o][5] == 'low':\n",
    "        X[o][5] = labels[0]\n",
    "    elif X[o][5] == 'med':\n",
    "        X[o][5] = labels[1]\n",
    "    elif X[o][5] == 'high':\n",
    "        X[o][5] = labels[2]\n",
    "    o = o + 1\n",
    "\n",
    "print(X)"
   ]
  },
  {
   "cell_type": "markdown",
   "id": "ee56bd38-f1c3-45ae-b6d2-00da47726d4f",
   "metadata": {},
   "source": [
    "**----->PODZIAŁ DANYCH NA ZBIÓR TRENINGOWY I TESTOWY<-----**"
   ]
  },
  {
   "cell_type": "code",
   "execution_count": 7,
   "id": "33146388-1c02-48ba-880d-196af5a1c5f7",
   "metadata": {},
   "outputs": [
    {
     "name": "stdout",
     "output_type": "stream",
     "text": [
      "(1382, 6) (1382,)\n",
      "(346, 6) (346,)\n"
     ]
    }
   ],
   "source": [
    "from sklearn import model_selection\n",
    "podzial = model_selection.train_test_split(X, y, test_size = 0.2, random_state = 0)  #80% danych - zbiór treningowy, 20% danych - zbiór testowy\n",
    "X_train, X_test, y_train, y_test = podzial\n",
    "print (X_train.shape, y_train.shape)\n",
    "print(X_test.shape, y_test.shape)    #wymiary zbiorów testowych i treningowych\n",
    "\n",
    "X_train=X_train.astype('int')\n",
    "y_train=y_train.astype('int')\n",
    "X_test=X_test.astype('int')\n",
    "y_test=y_test.astype('int')"
   ]
  },
  {
   "cell_type": "markdown",
   "id": "026480e6-e2cc-40d3-b19a-75beabc05857",
   "metadata": {},
   "source": [
    "**----->WYKREŚLANIE HISTOGRAMÓW<-----**"
   ]
  },
  {
   "cell_type": "code",
   "execution_count": 8,
   "id": "85003091-da4a-4b85-a380-5f821c9d0185",
   "metadata": {},
   "outputs": [
    {
     "data": {
      "text/plain": [
       "<matplotlib.legend.Legend at 0x1dfbf935ca0>"
      ]
     },
     "execution_count": 8,
     "metadata": {},
     "output_type": "execute_result"
    },
    {
     "data": {
      "image/png": "[encoded data removed]",
      "text/plain": [
       "<Figure size 2400x1200 with 6 Axes>"
      ]
     },
     "metadata": {
      "needs_background": "light"
     },
     "output_type": "display_data"
    },
    {
     "data": {
      "image/png": "[encoded data removed]",
      "text/plain": [
       "<Figure size 576x432 with 1 Axes>"
      ]
     },
     "metadata": {
      "needs_background": "light"
     },
     "output_type": "display_data"
    }
   ],
   "source": [
    "#wykreślanie histogramów atrybutów z podziałem na dane treningowe/testowe\n",
    "from matplotlib.pyplot import figure\n",
    "buying_train = X_train[:,0]\n",
    "buying_test = X_test[:,0]\n",
    "maint_train = X_train[:,1]\n",
    "maint_test = X_test[:,1]\n",
    "doors_train = X_train[:,2]\n",
    "doors_test = X_test[:,2]\n",
    "persons_train = X_train[:,3]\n",
    "persons_test = X_test[:,3]\n",
    "lug_boot_train = X_train[:,4]\n",
    "lug_boot_test = X_test[:,4]\n",
    "safety_train = X_train[:,5]\n",
    "safety_test = X_test[:,5]\n",
    "\n",
    "fig = plt.figure(figsize=(30, 15), dpi = 80)\n",
    "fig.suptitle('Histogramy prezentujące ilość samochodów o określonych atrybutach', fontsize = 32)\n",
    "\n",
    "fig.add_subplot(2, 3, 1)\n",
    "plt.hist(buying_train)\n",
    "plt.hist(buying_test)\n",
    "plt.xlabel(\"Cena samochodu\", fontsize = 12)\n",
    "plt.ylabel(\"Ilość samochodów\", fontsize = 12)\n",
    "plt.legend([\"Atrybut ceny w zbiorze uczącym\",\"Atrybut ceny w zbiorze testowym\"], loc = 'upper right')\n",
    "\n",
    "fig.add_subplot(2, 3, 2)\n",
    "plt.hist(maint_train)\n",
    "plt.hist(maint_test)\n",
    "plt.xlabel(\"Cena utrzymania samochodu\", fontsize = 12)\n",
    "plt.ylabel(\"Ilość samochodów\", fontsize = 12)\n",
    "plt.legend([\"Atrybut ceny utrzymania w zbiorze uczącym\",\"Atrybut ceny utrzymania w zbiorze testowym\"], loc = 'upper right')\n",
    "\n",
    "fig.add_subplot(2, 3, 3)\n",
    "plt.hist(doors_train)\n",
    "plt.hist(doors_test)\n",
    "plt.xlabel(\"Liczba drzwi w samochodzie\", fontsize = 12)\n",
    "plt.ylabel(\"Ilość samochodów\", fontsize = 12)\n",
    "plt.legend([\"Atrybut liczby drzwi w zbiorze uczącym\",\"Atrybut liczby drzwi w zbiorze testowym\"], loc = 'upper right')\n",
    "\n",
    "fig.add_subplot(2, 3, 4)\n",
    "plt.hist(persons_train)\n",
    "plt.hist(persons_test)\n",
    "plt.xlabel(\"Pojemność samochodu w przeliczeniu na liczbę osób\", fontsize = 12)\n",
    "plt.ylabel(\"Ilość samochodów\", fontsize = 12)\n",
    "plt.legend([\"Atrybut pojemności w zbiorze uczącym\",\"Atrybut pojemności w zbiorze testowym\"], loc = 'upper right')\n",
    "\n",
    "fig.add_subplot(2, 3, 5)\n",
    "plt.hist(lug_boot_train)\n",
    "plt.hist(lug_boot_test)\n",
    "plt.xlabel(\"Wielkość bagażnika w samochodzie\", fontsize = 12)\n",
    "plt.ylabel(\"Ilość samochodów\", fontsize = 12)\n",
    "plt.legend([\"Atrybut wielkości bagażnika w zbiorze uczącym\",\"Atrybut wielkości bagażnika w zbiorze testowym\"], loc = 'upper right')\n",
    "\n",
    "fig.add_subplot(2, 3, 6)\n",
    "plt.hist(safety_train)\n",
    "plt.hist(safety_test)\n",
    "plt.xlabel(\"Szacunkowe bezpieczeństwo samochodu\", fontsize = 12)\n",
    "plt.ylabel(\"Ilość samochodów\", fontsize = 12)\n",
    "plt.legend([\"Atrybut szacunkowego bezpieczeństwa w zbiorze uczącym\",\"Atrybut szacunkowego bezpieczeństwa w zbiorze testowym\"], loc = 'upper right')\n",
    "\n",
    "#wykreślenie histogramu dla etykiet\n",
    "fig = plt.figure(figsize=(8, 6))\n",
    "fig.suptitle('Histogram prezentujący ilość samochodów w każdej z klas', fontsize = 16)\n",
    "\n",
    "plt.hist(y_train)\n",
    "plt.hist(y_test)\n",
    "plt.xlabel(\"Etykiety - stan samochodu\", fontsize = 12)\n",
    "plt.ylabel(\"Ilość etykiet\", fontsize = 12)\n",
    "plt.legend([\"Etykiety w zbiorze uczącym\",\"Etykiety w zbiorze testowym\"])"
   ]
  },
  {
   "cell_type": "markdown",
   "id": "1c7674da-595c-4bd0-bff9-98198d937aad",
   "metadata": {},
   "source": [
    "**----->IMPLEMENTACJA FUNKCJI ODPOWIADAJĄCEJ ZA WYŚWIETLANIE METRYK DLA ALGORYTMÓW<-----**"
   ]
  },
  {
   "cell_type": "code",
   "execution_count": 9,
   "id": "03255ebb-4eb3-4ba1-9240-ab039355c4ef",
   "metadata": {},
   "outputs": [],
   "source": [
    "from sklearn import metrics\n",
    "import warnings\n",
    "\n",
    "#Funkcja pozwalająca określać podstawowe metryki - accuracy, confusion_matrix, classification_report\n",
    "def metrics_aum(algorithm, X_test, y_test, y_predicted):\n",
    "    \n",
    "    print('METRYKI NA ZBIORZE TESTOWYM DLA -> ' + str(algorithm))\n",
    "    print('-----------------------------')\n",
    "    \n",
    "    #macierz pomyłek\n",
    "    confusion_matrix = metrics.confusion_matrix(y_test, y_predicted)\n",
    "    \n",
    "    fig, ax = plt.subplots(figsize = (2.5, 2.5))\n",
    "    ax.matshow(confusion_matrix, cmap = plt.cm.Blues, alpha = 0.3)\n",
    "    \n",
    "    for i in range (confusion_matrix.shape[0]):\n",
    "        for j in range (confusion_matrix.shape[1]):\n",
    "            ax.text(x = j, y = i, s = confusion_matrix[i, j], va = 'center', ha = 'center')\n",
    "            \n",
    "    plt.xlabel('Przewidywana etykieta')\n",
    "    plt.ylabel('Rzeczywista etykieta')\n",
    "    plt.title(\"MACIERZ POMYŁEK (CONFUSION MATRIX)\")\n",
    "    plt.show()\n",
    "    print('----------------------------')\n",
    "\n",
    "    print('CLASSIFICATION REPORT')\n",
    "    classification_report = metrics.classification_report(y_test, y_predicted)\n",
    "    print(classification_report)\n",
    "    print('-----------------------------')\n",
    "\n",
    "    #skuteczność algorytmu\n",
    "    accuracy = metrics.accuracy_score(y_test, y_predicted)\n",
    "    print('ACCURACY')\n",
    "    print(accuracy)\n",
    "    print('-----------------------------')\n",
    "    \n",
    "    #prawdopodobieństwo przypisania do próbki każdej z etykiet dla pierwszych 3 próbek\n",
    "    proba = algorithm.predict_proba(X_test[:3])\n",
    "    print('PREDICT PROBABILITY DLA PIERWSZYCH 3 PRÓBEK')\n",
    "    print(proba)\n",
    "    print('-----------------------------')\n",
    " \n",
    "    print(\"Liczba błędnie sklasyfikowanych samochodów ze wszystkich %d w zbiorze testowym wynosi : %d\"\n",
    "    %(X_test.shape[0], (y_test != y_predicted).sum()))\n",
    "    print('-----------------------------')\n",
    "    print()"
   ]
  },
  {
   "cell_type": "markdown",
   "id": "131de645-db84-45eb-b8a4-3e85b5322bf7",
   "metadata": {},
   "source": [
    "**OPIS UŻYTYCH ALGORYTMÓW**<br>\n",
    "I. Drzewa decyzyjne - <br>\n",
    "II. Naiwny Bayes - <br>\n",
    "III. MLP (Perceptron wielowartswowy) - <br>"
   ]
  },
  {
   "cell_type": "markdown",
   "id": "ff5d134a-8181-42eb-81d8-5e13859dd80e",
   "metadata": {},
   "source": [
    "**I ALGORYTM --- DRZEWA DECYZYJNE**"
   ]
  },
  {
   "cell_type": "code",
   "execution_count": 10,
   "id": "88c3db8c-6d17-448b-980f-51df8ff1e1d1",
   "metadata": {},
   "outputs": [
    {
     "name": "stdout",
     "output_type": "stream",
     "text": [
      "METRYKI NA ZBIORZE TESTOWYM DLA -> DecisionTreeClassifier(max_depth=6, random_state=0)\n",
      "-----------------------------\n"
     ]
    },
    {
     "data": {
      "image/png": "[encoded data removed]",
      "text/plain": [
       "<Figure size 180x180 with 1 Axes>"
      ]
     },
     "metadata": {
      "needs_background": "light"
     },
     "output_type": "display_data"
    },
    {
     "name": "stdout",
     "output_type": "stream",
     "text": [
      "----------------------------\n",
      "CLASSIFICATION REPORT\n",
      "              precision    recall  f1-score   support\n",
      "\n",
      "           0       0.99      0.97      0.98       240\n",
      "           1       0.85      0.81      0.83        79\n",
      "           2       0.52      0.76      0.62        17\n",
      "           3       0.58      0.70      0.64        10\n",
      "\n",
      "    accuracy                           0.91       346\n",
      "   macro avg       0.74      0.81      0.77       346\n",
      "weighted avg       0.92      0.91      0.92       346\n",
      "\n",
      "-----------------------------\n",
      "ACCURACY\n",
      "0.9132947976878613\n",
      "-----------------------------\n",
      "PREDICT PROBABILITY DLA PIERWSZYCH 3 PRÓBEK\n",
      "[[0.01960784 0.78431373 0.         0.19607843]\n",
      " [1.         0.         0.         0.        ]\n",
      " [1.         0.         0.         0.        ]]\n",
      "-----------------------------\n",
      "Liczba błędnie sklasyfikowanych samochodów ze wszystkich 346 w zbiorze testowym wynosi : 30\n",
      "-----------------------------\n",
      "\n"
     ]
    }
   ],
   "source": [
    "from sklearn.tree import DecisionTreeClassifier\n",
    "from sklearn.tree import export_graphviz\n",
    "import graphviz\n",
    "\n",
    "clf_tree = DecisionTreeClassifier(max_depth = 6, random_state = 0)\n",
    "clf_tree.fit(X_train, y_train)\n",
    "\n",
    "y_predicted_tree = clf_tree.predict(X_test)\n",
    "\n",
    "metrics_aum(clf_tree, X_test, y_test, y_predicted_tree)"
   ]
  },
  {
   "cell_type": "markdown",
   "id": "98caacf0-bed6-4b69-8ce3-6c356da78610",
   "metadata": {},
   "source": [
    "**I ALGORYTM --- DRZEWA DECYZYJNE --- DOBÓR OPTYMALNYCH HIPERPARAMETRÓW W CELU ZWIĘKSZENIA SKUTECZNOŚCI UCZENIA**"
   ]
  },
  {
   "cell_type": "code",
   "execution_count": 11,
   "id": "d2699689-89cf-4d93-9a1d-6bfa2341722d",
   "metadata": {},
   "outputs": [
    {
     "name": "stdout",
     "output_type": "stream",
     "text": [
      "Najlepsze hiperparametry to: \n",
      "{'criterion': 'entropy', 'max_depth': 11}\n",
      "\n",
      "METRYKI NA ZBIORZE TESTOWYM DLA -> DecisionTreeClassifier(criterion='entropy', max_depth=11)\n",
      "-----------------------------\n"
     ]
    },
    {
     "name": "stderr",
     "output_type": "stream",
     "text": [
      "D:\\Anaconda\\envs\\venv\\lib\\site-packages\\sklearn\\model_selection\\_validation.py:372: FitFailedWarning: \n",
      "75 fits failed out of a total of 225.\n",
      "The score on these train-test partitions for these parameters will be set to nan.\n",
      "If these failures are not expected, you can try to debug them by setting error_score='raise'.\n",
      "\n",
      "Below are more details about the failures:\n",
      "--------------------------------------------------------------------------------\n",
      "75 fits failed with the following error:\n",
      "Traceback (most recent call last):\n",
      "  File \"D:\\Anaconda\\envs\\venv\\lib\\site-packages\\sklearn\\model_selection\\_validation.py\", line 680, in _fit_and_score\n",
      "    estimator.fit(X_train, y_train, **fit_params)\n",
      "  File \"D:\\Anaconda\\envs\\venv\\lib\\site-packages\\sklearn\\tree\\_classes.py\", line 937, in fit\n",
      "    super().fit(\n",
      "  File \"D:\\Anaconda\\envs\\venv\\lib\\site-packages\\sklearn\\tree\\_classes.py\", line 352, in fit\n",
      "    criterion = CRITERIA_CLF[self.criterion](\n",
      "KeyError: 'log_loss'\n",
      "\n",
      "  warnings.warn(some_fits_failed_message, FitFailedWarning)\n",
      "D:\\Anaconda\\envs\\venv\\lib\\site-packages\\sklearn\\model_selection\\_search.py:969: UserWarning: One or more of the test scores are non-finite: [0.70188353 0.78364464 0.78219536 0.84951604 0.87990373 0.93995448\n",
      " 0.91751949 0.96091927 0.97033694 0.98408152 0.98408152 0.98408152\n",
      " 0.98408152 0.98408152 0.98408152 0.70188353 0.78364464 0.78219536\n",
      " 0.83429864 0.87410663 0.93125883 0.9160676  0.95801287 0.97323811\n",
      " 0.98118558 0.98408413 0.98408413 0.98408413 0.98408413 0.98408413\n",
      "        nan        nan        nan        nan        nan        nan\n",
      "        nan        nan        nan        nan        nan        nan\n",
      "        nan        nan        nan]\n",
      "  warnings.warn(\n"
     ]
    },
    {
     "data": {
      "image/png": "[encoded data removed]",
      "text/plain": [
       "<Figure size 180x180 with 1 Axes>"
      ]
     },
     "metadata": {
      "needs_background": "light"
     },
     "output_type": "display_data"
    },
    {
     "name": "stdout",
     "output_type": "stream",
     "text": [
      "----------------------------\n",
      "CLASSIFICATION REPORT\n",
      "              precision    recall  f1-score   support\n",
      "\n",
      "           0       0.98      1.00      0.99       240\n",
      "           1       0.97      0.87      0.92        79\n",
      "           2       0.81      1.00      0.89        17\n",
      "           3       1.00      0.90      0.95        10\n",
      "\n",
      "    accuracy                           0.97       346\n",
      "   macro avg       0.94      0.94      0.94       346\n",
      "weighted avg       0.97      0.97      0.97       346\n",
      "\n",
      "-----------------------------\n",
      "ACCURACY\n",
      "0.9653179190751445\n",
      "-----------------------------\n",
      "PREDICT PROBABILITY DLA PIERWSZYCH 3 PRÓBEK\n",
      "[[0. 1. 0. 0.]\n",
      " [1. 0. 0. 0.]\n",
      " [1. 0. 0. 0.]]\n",
      "-----------------------------\n",
      "Liczba błędnie sklasyfikowanych samochodów ze wszystkich 346 w zbiorze testowym wynosi : 12\n",
      "-----------------------------\n",
      "\n"
     ]
    }
   ],
   "source": [
    "from sklearn.model_selection import GridSearchCV\n",
    "\n",
    "param_grid = {\n",
    "    \"max_depth\": [1, 2, 3, 4, 5, 6, 7, 8, 9, 10, 11, 12, 13, 14, 15],\n",
    "    \"criterion\": ['gini', 'entropy', 'log_loss'],\n",
    "}\n",
    "\n",
    "search_tree = GridSearchCV(clf_tree, param_grid, n_jobs=2)\n",
    "search_tree.fit(X_train, y_train)\n",
    "print(\"Najlepsze hiperparametry to: \")\n",
    "print(search_tree.best_params_)\n",
    "print()\n",
    "\n",
    "clf_tree2 = DecisionTreeClassifier(max_depth = search_tree.best_params_.setdefault(\"max_depth\"), criterion = search_tree.best_params_.setdefault(\"criterion\"))\n",
    "clf_tree2.fit(X_train, y_train)\n",
    "y_predicted_tree2 = clf_tree2.predict(X_test)\n",
    "metrics_aum(clf_tree2, X_test, y_test, y_predicted_tree2)"
   ]
  },
  {
   "cell_type": "markdown",
   "id": "f7bf60e4-b8f5-46df-a726-e57c8beb701b",
   "metadata": {},
   "source": [
    "**II ALGORYTM ---**\n",
    "**NAIWNY BAYES**"
   ]
  },
  {
   "cell_type": "code",
   "execution_count": 12,
   "id": "ce09fbe9-e984-4297-bcd2-289913da0764",
   "metadata": {},
   "outputs": [
    {
     "name": "stdout",
     "output_type": "stream",
     "text": [
      "METRYKI NA ZBIORZE TESTOWYM DLA -> GaussianNB()\n",
      "-----------------------------\n"
     ]
    },
    {
     "data": {
      "image/png": "[encoded data removed]",
      "text/plain": [
       "<Figure size 180x180 with 1 Axes>"
      ]
     },
     "metadata": {
      "needs_background": "light"
     },
     "output_type": "display_data"
    },
    {
     "name": "stdout",
     "output_type": "stream",
     "text": [
      "----------------------------\n",
      "CLASSIFICATION REPORT\n",
      "              precision    recall  f1-score   support\n",
      "\n",
      "           0       0.88      0.89      0.88       240\n",
      "           1       0.52      0.16      0.25        79\n",
      "           2       0.38      0.18      0.24        17\n",
      "           3       0.14      1.00      0.25        10\n",
      "\n",
      "    accuracy                           0.69       346\n",
      "   macro avg       0.48      0.56      0.41       346\n",
      "weighted avg       0.75      0.69      0.69       346\n",
      "\n",
      "-----------------------------\n",
      "ACCURACY\n",
      "0.6907514450867052\n",
      "-----------------------------\n",
      "PREDICT PROBABILITY DLA PIERWSZYCH 3 PRÓBEK\n",
      "[[6.31192130e-01 3.68806900e-01 9.69711000e-07 0.00000000e+00]\n",
      " [8.11935573e-01 1.88064427e-01 1.63161873e-10 0.00000000e+00]\n",
      " [9.99845400e-01 1.54420938e-04 1.79317764e-07 0.00000000e+00]]\n",
      "-----------------------------\n",
      "Liczba błędnie sklasyfikowanych samochodów ze wszystkich 346 w zbiorze testowym wynosi : 107\n",
      "-----------------------------\n",
      "\n"
     ]
    }
   ],
   "source": [
    "from sklearn.naive_bayes import GaussianNB\n",
    "\n",
    "clf_nb = GaussianNB()    #priors = None, var_smoothing = 1e-09\n",
    "clf_nb.fit(X_train, y_train)\n",
    "\n",
    "y_predicted_nb = clf_nb.predict(X_test)\n",
    "\n",
    "metrics_aum(clf_nb, X_test, y_test, y_predicted_nb)"
   ]
  },
  {
   "cell_type": "markdown",
   "id": "6c06099e-2bcc-4d3a-baf5-1791e9f75339",
   "metadata": {},
   "source": [
    "**II ALGORYTM --- NAIWNY BAYES --- DOBÓR OPTYMALNYCH HIPERPARAMETRÓW W CELU ZWIĘKSZENIA SKUTECZNOŚCI UCZENIA**"
   ]
  },
  {
   "cell_type": "code",
   "execution_count": 13,
   "id": "828bbee9-d74b-429f-a86c-af7e80e2b1e0",
   "metadata": {},
   "outputs": [
    {
     "name": "stdout",
     "output_type": "stream",
     "text": [
      "Najlepsze hiperparametry to: \n",
      "{'var_smoothing': 0.01}\n",
      "\n",
      "METRYKI NA ZBIORZE TESTOWYM DLA -> GaussianNB(var_smoothing=0.01)\n",
      "-----------------------------\n"
     ]
    },
    {
     "data": {
      "image/png": "[encoded data removed]",
      "text/plain": [
       "<Figure size 180x180 with 1 Axes>"
      ]
     },
     "metadata": {
      "needs_background": "light"
     },
     "output_type": "display_data"
    },
    {
     "name": "stdout",
     "output_type": "stream",
     "text": [
      "----------------------------\n",
      "CLASSIFICATION REPORT\n",
      "              precision    recall  f1-score   support\n",
      "\n",
      "           0       0.86      0.95      0.90       240\n",
      "           1       0.67      0.47      0.55        79\n",
      "           2       0.50      0.29      0.37        17\n",
      "           3       0.62      1.00      0.77        10\n",
      "\n",
      "    accuracy                           0.81       346\n",
      "   macro avg       0.66      0.68      0.65       346\n",
      "weighted avg       0.79      0.81      0.79       346\n",
      "\n",
      "-----------------------------\n",
      "ACCURACY\n",
      "0.8063583815028902\n",
      "-----------------------------\n",
      "PREDICT PROBABILITY DLA PIERWSZYCH 3 PRÓBEK\n",
      "[[6.29411323e-01 3.70586717e-01 1.95962306e-06 3.65357470e-19]\n",
      " [8.08506386e-01 1.91493613e-01 5.03196609e-10 9.24672881e-24]\n",
      " [9.99769925e-01 2.29703251e-04 3.71564729e-07 1.32666948e-75]]\n",
      "-----------------------------\n",
      "Liczba błędnie sklasyfikowanych samochodów ze wszystkich 346 w zbiorze testowym wynosi : 67\n",
      "-----------------------------\n",
      "\n"
     ]
    }
   ],
   "source": [
    "param_grid = {\n",
    "    \"var_smoothing\": [1e-9, 1e-8, 1e-7, 1e-6, 1e-5, 1e-4, 1e-3, 0.01, 0.1, 1.0, 10.0, 100.0],\n",
    "}\n",
    "\n",
    "search_nb = GridSearchCV(clf_nb, param_grid, n_jobs=2)\n",
    "search_nb.fit(X_train, y_train)\n",
    "print(\"Najlepsze hiperparametry to: \")\n",
    "print(search_nb.best_params_)\n",
    "print()\n",
    "\n",
    "clf_nb2 = GaussianNB(priors = None, var_smoothing = search_nb.best_params_.setdefault(\"var_smoothing\"))\n",
    "clf_nb2.fit(X_train, y_train)\n",
    "y_predicted_nb2 = clf_nb2.predict(X_test)\n",
    "metrics_aum(clf_nb2, X_test, y_test, y_predicted_nb2)"
   ]
  },
  {
   "cell_type": "markdown",
   "id": "d6f7224c-ee49-4a2b-8df4-77156ce876bb",
   "metadata": {},
   "source": [
    "**III ALGORYTM ---**\n",
    "**MLP (PERCEPTRON WIELOWARSTWOWY)**"
   ]
  },
  {
   "cell_type": "code",
   "execution_count": 14,
   "id": "136c610f-2cf8-4790-af81-ec69b5b2f138",
   "metadata": {},
   "outputs": [
    {
     "name": "stdout",
     "output_type": "stream",
     "text": [
      "METRYKI NA ZBIORZE TESTOWYM DLA -> MLPClassifier(alpha=5, max_iter=500)\n",
      "-----------------------------\n"
     ]
    },
    {
     "data": {
      "image/png": "[encoded data removed]",
      "text/plain": [
       "<Figure size 180x180 with 1 Axes>"
      ]
     },
     "metadata": {
      "needs_background": "light"
     },
     "output_type": "display_data"
    },
    {
     "name": "stdout",
     "output_type": "stream",
     "text": [
      "----------------------------\n",
      "CLASSIFICATION REPORT\n",
      "              precision    recall  f1-score   support\n",
      "\n",
      "           0       0.93      0.96      0.95       240\n",
      "           1       0.72      0.80      0.76        79\n",
      "           2       0.75      0.18      0.29        17\n",
      "           3       0.43      0.30      0.35        10\n",
      "\n",
      "    accuracy                           0.87       346\n",
      "   macro avg       0.71      0.56      0.59       346\n",
      "weighted avg       0.86      0.87      0.85       346\n",
      "\n",
      "-----------------------------\n",
      "ACCURACY\n",
      "0.8670520231213873\n",
      "-----------------------------\n",
      "PREDICT PROBABILITY DLA PIERWSZYCH 3 PRÓBEK\n",
      "[[4.97413166e-01 4.44832208e-01 3.21390664e-02 2.56155595e-02]\n",
      " [9.00038580e-01 9.75292718e-02 1.67146917e-03 7.60678636e-04]\n",
      " [9.96785336e-01 3.07079004e-03 1.15024327e-04 2.88498165e-05]]\n",
      "-----------------------------\n",
      "Liczba błędnie sklasyfikowanych samochodów ze wszystkich 346 w zbiorze testowym wynosi : 46\n",
      "-----------------------------\n",
      "\n"
     ]
    }
   ],
   "source": [
    "from sklearn.neural_network import MLPClassifier\n",
    "\n",
    "clf_mlp = MLPClassifier(alpha = 5, max_iter = 500)\n",
    "clf_mlp.fit(X_train, y_train)\n",
    "\n",
    "y_predicted_mlp = clf_mlp.predict(X_test)\n",
    "\n",
    "metrics_aum(clf_mlp, X_test, y_test, y_predicted_mlp)"
   ]
  },
  {
   "cell_type": "markdown",
   "id": "a7c681a3-9b4d-40a9-9bff-0ee28069a615",
   "metadata": {},
   "source": [
    "**III ALGORYTM --- MLP (PERCEPTRON WIELOWARSTWOWY) --- DOBÓR OPTYMALYCH HIPERPARAMETRÓW W CELU ZWIĘKSZENIA SKUTECZNOŚCI UCZENIA**"
   ]
  },
  {
   "cell_type": "code",
   "execution_count": 15,
   "id": "779972a5-68ee-4fd8-9ad2-26fa2d2b78e9",
   "metadata": {},
   "outputs": [
    {
     "name": "stdout",
     "output_type": "stream",
     "text": [
      "Najlepsze hiperparametry to: \n",
      "{'activation': 'relu', 'alpha': 0.0001, 'max_iter': 1000}\n",
      "\n",
      "METRYKI NA ZBIORZE TESTOWYM DLA -> MLPClassifier(max_iter=1000)\n",
      "-----------------------------\n"
     ]
    },
    {
     "data": {
      "image/png": "[encoded data removed]",
      "text/plain": [
       "<Figure size 180x180 with 1 Axes>"
      ]
     },
     "metadata": {
      "needs_background": "light"
     },
     "output_type": "display_data"
    },
    {
     "name": "stdout",
     "output_type": "stream",
     "text": [
      "----------------------------\n",
      "CLASSIFICATION REPORT\n",
      "              precision    recall  f1-score   support\n",
      "\n",
      "           0       0.99      0.98      0.99       240\n",
      "           1       0.94      0.97      0.96        79\n",
      "           2       1.00      1.00      1.00        17\n",
      "           3       1.00      1.00      1.00        10\n",
      "\n",
      "    accuracy                           0.98       346\n",
      "   macro avg       0.98      0.99      0.99       346\n",
      "weighted avg       0.98      0.98      0.98       346\n",
      "\n",
      "-----------------------------\n",
      "ACCURACY\n",
      "0.9797687861271677\n",
      "-----------------------------\n",
      "PREDICT PROBABILITY DLA PIERWSZYCH 3 PRÓBEK\n",
      "[[2.11428800e-01 7.88571200e-01 6.17800166e-11 1.63889101e-13]\n",
      " [9.91068651e-01 8.93134857e-03 2.00778881e-19 1.54019147e-23]\n",
      " [1.00000000e+00 7.80739571e-16 8.33268859e-23 1.40261729e-29]]\n",
      "-----------------------------\n",
      "Liczba błędnie sklasyfikowanych samochodów ze wszystkich 346 w zbiorze testowym wynosi : 7\n",
      "-----------------------------\n",
      "\n"
     ]
    }
   ],
   "source": [
    "param_grid = {\n",
    "    \"alpha\": [1e-4, 1e-3],\n",
    "    \"max_iter\": [1000, 1500],\n",
    "    \"activation\": ['tanh', 'relu'],  \n",
    "}\n",
    "\n",
    "search_mlp = GridSearchCV(clf_mlp, param_grid, n_jobs=4)\n",
    "search_mlp.fit(X_train, y_train)\n",
    "print(\"Najlepsze hiperparametry to: \")\n",
    "print(search_mlp.best_params_)\n",
    "print()\n",
    "\n",
    "clf_mlp2 = MLPClassifier(alpha = search_mlp.best_params_.setdefault(\"alpha\"), max_iter = search_mlp.best_params_.setdefault(\"max_iter\"), activation = search_mlp.best_params_.setdefault(\"activation\"))\n",
    "clf_mlp2.fit(X_train, y_train)\n",
    "y_predicted_mlp2 = clf_mlp2.predict(X_test)\n",
    "metrics_aum(clf_mlp2, X_test, y_test, y_predicted_mlp2)"
   ]
  },
  {
   "cell_type": "markdown",
   "id": "54907c8c-6447-4527-aae9-59a5860cfff4",
   "metadata": {},
   "source": [
    "**IV ALGORYTM --- POŁĄCZENIE WSZYSTKICH TRZECH ALGORYTMÓW --- STACKING CLASSIFIER**"
   ]
  },
  {
   "cell_type": "code",
   "execution_count": 19,
   "id": "cfea33d8-0be6-4cd4-987e-391aca2892f4",
   "metadata": {},
   "outputs": [
    {
     "name": "stderr",
     "output_type": "stream",
     "text": [
      "D:\\Anaconda\\envs\\venv\\lib\\site-packages\\sklearn\\neural_network\\_multilayer_perceptron.py:692: ConvergenceWarning: Stochastic Optimizer: Maximum iterations (1000) reached and the optimization hasn't converged yet.\n",
      "  warnings.warn(\n",
      "D:\\Anaconda\\envs\\venv\\lib\\site-packages\\sklearn\\neural_network\\_multilayer_perceptron.py:692: ConvergenceWarning: Stochastic Optimizer: Maximum iterations (1000) reached and the optimization hasn't converged yet.\n",
      "  warnings.warn(\n",
      "D:\\Anaconda\\envs\\venv\\lib\\site-packages\\sklearn\\neural_network\\_multilayer_perceptron.py:692: ConvergenceWarning: Stochastic Optimizer: Maximum iterations (1000) reached and the optimization hasn't converged yet.\n",
      "  warnings.warn(\n"
     ]
    },
    {
     "name": "stdout",
     "output_type": "stream",
     "text": [
      "METRYKI NA ZBIORZE TESTOWYM DLA -> StackingClassifier(estimators=[('clf_tree2',\n",
      "                                DecisionTreeClassifier(criterion='entropy',\n",
      "                                                       max_depth=11)),\n",
      "                               ('clf_nb2', GaussianNB(var_smoothing=0.01)),\n",
      "                               ('clf_mlp2', MLPClassifier(max_iter=1000))],\n",
      "                   final_estimator=LogisticRegression())\n",
      "-----------------------------\n"
     ]
    },
    {
     "name": "stderr",
     "output_type": "stream",
     "text": [
      "D:\\Anaconda\\envs\\venv\\lib\\site-packages\\sklearn\\neural_network\\_multilayer_perceptron.py:692: ConvergenceWarning: Stochastic Optimizer: Maximum iterations (1000) reached and the optimization hasn't converged yet.\n",
      "  warnings.warn(\n"
     ]
    },
    {
     "data": {
      "image/png": "[encoded data removed]",
      "text/plain": [
       "<Figure size 180x180 with 1 Axes>"
      ]
     },
     "metadata": {
      "needs_background": "light"
     },
     "output_type": "display_data"
    },
    {
     "name": "stdout",
     "output_type": "stream",
     "text": [
      "----------------------------\n",
      "CLASSIFICATION REPORT\n",
      "              precision    recall  f1-score   support\n",
      "\n",
      "           0       0.98      1.00      0.99       240\n",
      "           1       0.99      0.91      0.95        79\n",
      "           2       0.85      1.00      0.92        17\n",
      "           3       1.00      0.90      0.95        10\n",
      "\n",
      "    accuracy                           0.98       346\n",
      "   macro avg       0.95      0.95      0.95       346\n",
      "weighted avg       0.98      0.98      0.98       346\n",
      "\n",
      "-----------------------------\n",
      "ACCURACY\n",
      "0.976878612716763\n",
      "-----------------------------\n",
      "PREDICT PROBABILITY DLA PIERWSZYCH 3 PRÓBEK\n",
      "[[5.09427159e-01 4.71993196e-01 1.23799273e-02 6.19971792e-03]\n",
      " [9.96101540e-01 2.79417924e-03 5.61905456e-04 5.42374922e-04]\n",
      " [9.97290105e-01 1.90966194e-03 4.21140571e-04 3.79092634e-04]]\n",
      "-----------------------------\n",
      "Liczba błędnie sklasyfikowanych samochodów ze wszystkich 346 w zbiorze testowym wynosi : 8\n",
      "-----------------------------\n",
      "\n"
     ]
    }
   ],
   "source": [
    "from sklearn.ensemble import StackingClassifier\n",
    "from sklearn.linear_model import LogisticRegression\n",
    "\n",
    "estimator_list = [\n",
    "    ('clf_tree2', clf_tree2),\n",
    "    ('clf_nb2', clf_nb2),\n",
    "    ('clf_mlp2', clf_mlp2)]\n",
    "\n",
    "stack_model = StackingClassifier(estimators = estimator_list, final_estimator = LogisticRegression())\n",
    "\n",
    "stack_model.fit(X_train, y_train)\n",
    "\n",
    "y_predicted_stack = stack_model.predict(X_test)\n",
    "\n",
    "metrics_aum(stack_model, X_test, y_test, y_predicted_stack)"
   ]
  },
  {
   "cell_type": "markdown",
   "id": "0ae3433d-fcbf-4e1a-a5dc-d6cfc3b09a20",
   "metadata": {},
   "source": [
    "**ZALEŻNOŚĆ METRYK OD HIPERPARAMETRÓW**"
   ]
  },
  {
   "cell_type": "code",
   "execution_count": 17,
   "id": "3abdc8ff-93a1-44ca-8c58-99ed945471fb",
   "metadata": {},
   "outputs": [],
   "source": [
    "def metrics_visual(algorithm, X_test, y_test, y_predicted):\n",
    "    \n",
    "    #macierz pomyłek\n",
    "    confusion_matrix = metrics.confusion_matrix(y_test, y_predicted)\n",
    "\n",
    "    classification_report = metrics.classification_report(y_test, y_predicted)\n",
    "\n",
    "    #skuteczność algorytmu\n",
    "    accuracy = metrics.accuracy_score(y_test, y_predicted)\n",
    "    \n",
    "    #prawdopodobieństwo przypisania do próbki każdej z etykiet dla pierwszych 3 próbek\n",
    "    proba = algorithm.predict_proba(X_test[:3])\n",
    " \n",
    "    probki_testowy = X_test.shape[0]\n",
    "    bledne_testowy = y_test != y_predicted.sum()\n",
    "    \n",
    "    print(\"Dla: \" + str(algorithm))\n",
    "    print(\"-Skuteczność: \" + str(accuracy))\n",
    "    print(\"-Błędnie sklasyfikowanych z %d: %d\"\n",
    "    %(X_test.shape[0], (y_test != y_predicted).sum()))\n",
    "    print()"
   ]
  },
  {
   "cell_type": "code",
   "execution_count": 33,
   "id": "84656b36-6967-4ca3-9573-b02ac12585b7",
   "metadata": {},
   "outputs": [
    {
     "name": "stdout",
     "output_type": "stream",
     "text": [
      "Dla: DecisionTreeClassifier(max_depth=6, random_state=0)\n",
      "-Skuteczność: 0.9132947976878613\n",
      "-Błędnie sklasyfikowanych z 346: 30\n",
      "\n",
      "Dla: DecisionTreeClassifier(criterion='entropy', max_depth=11)\n",
      "-Skuteczność: 0.9653179190751445\n",
      "-Błędnie sklasyfikowanych z 346: 12\n",
      "\n",
      "Dla: GaussianNB()\n",
      "-Skuteczność: 0.6907514450867052\n",
      "-Błędnie sklasyfikowanych z 346: 107\n",
      "\n",
      "Dla: GaussianNB(var_smoothing=0.01)\n",
      "-Skuteczność: 0.8063583815028902\n",
      "-Błędnie sklasyfikowanych z 346: 67\n",
      "\n",
      "Dla: MLPClassifier(alpha=5, max_iter=500)\n",
      "-Skuteczność: 0.8670520231213873\n",
      "-Błędnie sklasyfikowanych z 346: 46\n",
      "\n",
      "Dla: MLPClassifier(max_iter=1000)\n",
      "-Skuteczność: 0.9797687861271677\n",
      "-Błędnie sklasyfikowanych z 346: 7\n",
      "\n"
     ]
    }
   ],
   "source": [
    "metrics_visual(clf_tree, X_test, y_test, y_predicted_tree)\n",
    "metrics_visual(clf_tree2, X_test, y_test, y_predicted_tree2)\n",
    "metrics_visual(clf_nb, X_test, y_test, y_predicted_nb)\n",
    "metrics_visual(clf_nb2, X_test, y_test, y_predicted_nb2)\n",
    "metrics_visual(clf_mlp, X_test, y_test, y_predicted_mlp)\n",
    "metrics_visual(clf_mlp2, X_test, y_test, y_predicted_mlp2)"
   ]
  },
  {
   "cell_type": "markdown",
   "id": "83a42bc0-ac63-4aaf-95e7-4be7862e48af",
   "metadata": {},
   "source": [
    "**PORÓWNIANIE ALGORYTMÓW Z OPTYMALNYMI HIPERPARAMETRAMI I ALGORYTMU ŁĄCZONEGO**"
   ]
  },
  {
   "cell_type": "code",
   "execution_count": 53,
   "id": "7339bfa3-d6cc-4555-9727-10f69589d931",
   "metadata": {},
   "outputs": [
    {
     "data": {
      "text/html": [
       "<div>\n",
       "<style scoped>\n",
       "    .dataframe tbody tr th:only-of-type {\n",
       "        vertical-align: middle;\n",
       "    }\n",
       "\n",
       "    .dataframe tbody tr th {\n",
       "        vertical-align: top;\n",
       "    }\n",
       "\n",
       "    .dataframe thead th {\n",
       "        text-align: right;\n",
       "    }\n",
       "</style>\n",
       "<table border=\"1\" class=\"dataframe\">\n",
       "  <thead>\n",
       "    <tr style=\"text-align: right;\">\n",
       "      <th></th>\n",
       "      <th>Skuteczność</th>\n",
       "      <th>Źle sklasyfikowe z 346</th>\n",
       "    </tr>\n",
       "  </thead>\n",
       "  <tbody>\n",
       "    <tr>\n",
       "      <th>Drzewa Decyzyjne</th>\n",
       "      <td>0.965318</td>\n",
       "      <td>12</td>\n",
       "    </tr>\n",
       "    <tr>\n",
       "      <th>Naiwny Bayes</th>\n",
       "      <td>0.806358</td>\n",
       "      <td>67</td>\n",
       "    </tr>\n",
       "    <tr>\n",
       "      <th>MLP</th>\n",
       "      <td>0.979769</td>\n",
       "      <td>7</td>\n",
       "    </tr>\n",
       "    <tr>\n",
       "      <th>Połączone algorytmy</th>\n",
       "      <td>0.976879</td>\n",
       "      <td>8</td>\n",
       "    </tr>\n",
       "  </tbody>\n",
       "</table>\n",
       "</div>"
      ],
      "text/plain": [
       "                     Skuteczność  Źle sklasyfikowe z 346\n",
       "Drzewa Decyzyjne        0.965318                      12\n",
       "Naiwny Bayes            0.806358                      67\n",
       "MLP                     0.979769                       7\n",
       "Połączone algorytmy     0.976879                       8"
      ]
     },
     "execution_count": 53,
     "metadata": {},
     "output_type": "execute_result"
    }
   ],
   "source": [
    "acc_tree = accuracy_score(y_test, y_predicted_tree2)\n",
    "acc_nb = accuracy_score(y_test, y_predicted_nb2)\n",
    "acc_mlp = accuracy_score(y_test, y_predicted_mlp2)\n",
    "acc_stack = accuracy_score(y_test, y_predicted_stack)\n",
    "\n",
    "acc_test_dict = {'Drzewa Decyzyjne': acc_tree,\n",
    "                'Naiwny Bayes': acc_nb,\n",
    "                'MLP': acc_mlp,\n",
    "                'Połączone algorytmy': acc_stack}\n",
    "\n",
    "bad_class_tree = (y_test != y_predicted_tree2).sum()\n",
    "bad_class_nb = (y_test != y_predicted_nb2).sum()\n",
    "bad_class_mlp = (y_test != y_predicted_mlp2).sum()\n",
    "bad_class_stack = (y_test != y_predicted_stack).sum()\n",
    "\n",
    "badly_classified_dict = {'Drzewa Decyzyjne': bad_class_tree,\n",
    "                        'Naiwny Bayes': bad_class_nb,\n",
    "                        'MLP': bad_class_mlp,\n",
    "                        'Połączone algorytmy': bad_class_stack}\n",
    "\n",
    "acc_df = pd.DataFrame.from_dict(acc_test_dict, orient = 'index', columns = ['Skuteczność'])\n",
    "badly_class_df = pd.DataFrame.from_dict(badly_classified_dict, orient = 'index', columns = [\"Źle sklasyfikowe z %d\" %X_test.shape[0]])\n",
    "data = pd.concat([acc_df, badly_class_df], axis = 1)\n",
    "data"
   ]
  },
  {
   "cell_type": "markdown",
   "id": "4340014c-e7b9-4dc9-bedd-2a1d8ccfe50a",
   "metadata": {},
   "source": [
    "**IMPLEMENTACJA FUNKCJI DO WIZUALIZACJI PROCESU UCZENIA --- KRZYWE UCZENIA**<br>\n",
    "*Krzywe uczenia zostały wyświetlone dla algorytmów z optymalnymi hiperparametrami i dla algorytmu łączonego*"
   ]
  },
  {
   "cell_type": "code",
   "execution_count": null,
   "id": "0d171c5b-f99e-4651-9b46-5436c0849c44",
   "metadata": {},
   "outputs": [],
   "source": []
  }
 ],
 "metadata": {
  "kernelspec": {
   "display_name": "Python 3 (ipykernel)",
   "language": "python",
   "name": "python3"
  },
  "language_info": {
   "codemirror_mode": {
    "name": "ipython",
    "version": 3
   },
   "file_extension": ".py",
   "mimetype": "text/x-python",
   "name": "python",
   "nbconvert_exporter": "python",
   "pygments_lexer": "ipython3",
   "version": "3.9.7"
  }
 },
 "nbformat": 4,
 "nbformat_minor": 5
}
