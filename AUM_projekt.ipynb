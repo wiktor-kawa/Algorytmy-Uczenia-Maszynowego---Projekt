{
 "cells": [
  {
   "cell_type": "markdown",
   "id": "8446c987-f4c0-4fbb-b382-f2816145141b",
   "metadata": {},
   "source": [
    "**PROJEKT - ALGORYTMY UCZENIA MASZYNOWEGO**"
   ]
  },
  {
   "cell_type": "markdown",
   "id": "ae208e6e-423f-488e-8e8c-d7702f8438ae",
   "metadata": {},
   "source": [
    "--> [Link do Github'a](https://github.com/wiktor-kawa/Algorytmy-Uczenia-Maszynowego---Projekt) <--"
   ]
  },
  {
   "cell_type": "code",
   "execution_count": 49,
   "id": "7f3799b1-f6b1-4bb7-a9fa-030123a29d3a",
   "metadata": {},
   "outputs": [],
   "source": [
    "import numpy as np\n",
    "import pandas as pd\n",
    "from matplotlib import pyplot as plt"
   ]
  },
  {
   "cell_type": "code",
   "execution_count": 20,
   "id": "ca6de939-e7d9-4e4f-867d-cd5a134ef542",
   "metadata": {},
   "outputs": [],
   "source": [
    "#załadowanie danych z bazy danych\n",
    "df = pd.read_csv('car.data', header = None)\n",
    "df.columns = ['buying', 'maint', 'doors', 'persons', 'lug_boot', 'safety', 'class']"
   ]
  },
  {
   "cell_type": "markdown",
   "id": "d1a0df5b-afb5-43f8-9d33-a1289279e0ac",
   "metadata": {},
   "source": [
    "OPIS CECH<br>\n",
    "*buying - cena zakupu samochodu<br>\n",
    "*maint - cena utrzymania samochodu<br>\n",
    "*doors - liczba drzwi<br>\n",
    "*persons - pojemność w przeliczeniu na liczbę osób<br>\n",
    "*lub_boot - wielkość bagażnika<br>\n",
    "*safety - szacunkowe bezpieczeństwo samochodu<br>\n",
    "class - stan akceptowalności pojazdu<br>\n"
   ]
  },
  {
   "cell_type": "code",
   "execution_count": 21,
   "id": "244ea42a-58fe-448b-89a3-92fdccd98155",
   "metadata": {},
   "outputs": [
    {
     "name": "stdout",
     "output_type": "stream",
     "text": [
      "(1728, 7)\n"
     ]
    },
    {
     "data": {
      "text/html": [
       "<div>\n",
       "<style scoped>\n",
       "    .dataframe tbody tr th:only-of-type {\n",
       "        vertical-align: middle;\n",
       "    }\n",
       "\n",
       "    .dataframe tbody tr th {\n",
       "        vertical-align: top;\n",
       "    }\n",
       "\n",
       "    .dataframe thead th {\n",
       "        text-align: right;\n",
       "    }\n",
       "</style>\n",
       "<table border=\"1\" class=\"dataframe\">\n",
       "  <thead>\n",
       "    <tr style=\"text-align: right;\">\n",
       "      <th></th>\n",
       "      <th>buying</th>\n",
       "      <th>maint</th>\n",
       "      <th>doors</th>\n",
       "      <th>persons</th>\n",
       "      <th>lug_boot</th>\n",
       "      <th>safety</th>\n",
       "      <th>class</th>\n",
       "    </tr>\n",
       "  </thead>\n",
       "  <tbody>\n",
       "    <tr>\n",
       "      <th>0</th>\n",
       "      <td>vhigh</td>\n",
       "      <td>vhigh</td>\n",
       "      <td>2</td>\n",
       "      <td>2</td>\n",
       "      <td>small</td>\n",
       "      <td>low</td>\n",
       "      <td>unacc</td>\n",
       "    </tr>\n",
       "    <tr>\n",
       "      <th>1</th>\n",
       "      <td>vhigh</td>\n",
       "      <td>vhigh</td>\n",
       "      <td>2</td>\n",
       "      <td>2</td>\n",
       "      <td>small</td>\n",
       "      <td>med</td>\n",
       "      <td>unacc</td>\n",
       "    </tr>\n",
       "    <tr>\n",
       "      <th>2</th>\n",
       "      <td>vhigh</td>\n",
       "      <td>vhigh</td>\n",
       "      <td>2</td>\n",
       "      <td>2</td>\n",
       "      <td>small</td>\n",
       "      <td>high</td>\n",
       "      <td>unacc</td>\n",
       "    </tr>\n",
       "    <tr>\n",
       "      <th>3</th>\n",
       "      <td>vhigh</td>\n",
       "      <td>vhigh</td>\n",
       "      <td>2</td>\n",
       "      <td>2</td>\n",
       "      <td>med</td>\n",
       "      <td>low</td>\n",
       "      <td>unacc</td>\n",
       "    </tr>\n",
       "    <tr>\n",
       "      <th>4</th>\n",
       "      <td>vhigh</td>\n",
       "      <td>vhigh</td>\n",
       "      <td>2</td>\n",
       "      <td>2</td>\n",
       "      <td>med</td>\n",
       "      <td>med</td>\n",
       "      <td>unacc</td>\n",
       "    </tr>\n",
       "  </tbody>\n",
       "</table>\n",
       "</div>"
      ],
      "text/plain": [
       "  buying  maint doors persons lug_boot safety  class\n",
       "0  vhigh  vhigh     2       2    small    low  unacc\n",
       "1  vhigh  vhigh     2       2    small    med  unacc\n",
       "2  vhigh  vhigh     2       2    small   high  unacc\n",
       "3  vhigh  vhigh     2       2      med    low  unacc\n",
       "4  vhigh  vhigh     2       2      med    med  unacc"
      ]
     },
     "execution_count": 21,
     "metadata": {},
     "output_type": "execute_result"
    }
   ],
   "source": [
    "#wyświetlenie części bazy danych\n",
    "print(df.shape)\n",
    "df.head()"
   ]
  },
  {
   "cell_type": "code",
   "execution_count": 35,
   "id": "c2133f30-a28e-4aac-8edb-aa0fb0e4e5d3",
   "metadata": {},
   "outputs": [
    {
     "name": "stdout",
     "output_type": "stream",
     "text": [
      "Wymiary tablic X i y:\n",
      "(1728, 6) (1728,)\n",
      "\n",
      "Zbiór wektorów cech:\n",
      "[['vhigh' 'vhigh' '2' '2' 'small' 'low']\n",
      " ['vhigh' 'vhigh' '2' '2' 'small' 'med']\n",
      " ['vhigh' 'vhigh' '2' '2' 'small' 'high']\n",
      " ...\n",
      " ['low' 'low' '5more' 'more' 'big' 'low']\n",
      " ['low' 'low' '5more' 'more' 'big' 'med']\n",
      " ['low' 'low' '5more' 'more' 'big' 'high']]\n",
      "\n",
      "Zbiór etykiet:\n",
      "['unacc' 'unacc' 'unacc' ... 'unacc' 'good' 'vgood']\n"
     ]
    }
   ],
   "source": [
    "data = df.values\n",
    "X = data[:,:-1]      #zmienna X - zbiór wektorów cech\n",
    "y = data[:,-1]       #zmienna y - zbiór etykiet dla obiektów znajdujących się w zbiorze\n",
    "print(\"Wymiary tablic X i y:\")\n",
    "print(X.shape, y.shape)\n",
    "print()\n",
    "print(\"Zbiór wektorów cech:\")\n",
    "print(X)\n",
    "print()\n",
    "print(\"Zbiór etykiet:\")\n",
    "print(y)"
   ]
  },
  {
   "cell_type": "markdown",
   "id": "ee56bd38-f1c3-45ae-b6d2-00da47726d4f",
   "metadata": {},
   "source": [
    "**PODZIAŁ DANYCH NA ZBIÓR TRENINGOWY I TESTOWY**"
   ]
  },
  {
   "cell_type": "code",
   "execution_count": 40,
   "id": "33146388-1c02-48ba-880d-196af5a1c5f7",
   "metadata": {},
   "outputs": [
    {
     "name": "stdout",
     "output_type": "stream",
     "text": [
      "(1382, 6) (1382,)\n",
      "(346, 6) (346,)\n"
     ]
    }
   ],
   "source": [
    "from sklearn import model_selection\n",
    "podzial = model_selection.train_test_split(X, y, test_size = 0.2, random_state = 0)  #80% danych - zbiór treningowy, 20% danych - zbiór testowy\n",
    "X_train, X_test, y_train, y_test = podzial\n",
    "print (X_train.shape, y_train.shape)\n",
    "print(X_test.shape, y_test.shape)    #wymiary zbiorów testowych i treningowych"
   ]
  },
  {
   "cell_type": "code",
   "execution_count": 94,
   "id": "85003091-da4a-4b85-a380-5f821c9d0185",
   "metadata": {},
   "outputs": [
    {
     "data": {
      "text/plain": [
       "<matplotlib.legend.Legend at 0x1f2f5cff160>"
      ]
     },
     "execution_count": 94,
     "metadata": {},
     "output_type": "execute_result"
    },
    {
     "data": {
      "image/png": "[encoded data removed]",
      "text/plain": [
       "<Figure size 432x288 with 1 Axes>"
      ]
     },
     "metadata": {
      "needs_background": "light"
     },
     "output_type": "display_data"
    }
   ],
   "source": [
    "plt.hist(y_train)\n",
    "plt.hist(y_test)\n",
    "plt.xlabel(\"Etykiety - stan samochodu\", fontsize = 12)\n",
    "plt.ylabel(\"Ilość etykiet\", fontsize = 12)\n",
    "plt.legend([\"Etykiety w zbiorze uczącym\",\"Etykiety w zbiorze testowym\"])\n"
   ]
  }
 ],
 "metadata": {
  "kernelspec": {
   "display_name": "Python 3 (ipykernel)",
   "language": "python",
   "name": "python3"
  },
  "language_info": {
   "codemirror_mode": {
    "name": "ipython",
    "version": 3
   },
   "file_extension": ".py",
   "mimetype": "text/x-python",
   "name": "python",
   "nbconvert_exporter": "python",
   "pygments_lexer": "ipython3",
   "version": "3.9.7"
  }
 },
 "nbformat": 4,
 "nbformat_minor": 5
}
